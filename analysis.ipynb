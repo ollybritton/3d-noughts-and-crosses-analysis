{
 "cells": [
  {
   "cell_type": "code",
   "execution_count": 1,
   "id": "b7aa925f-49bf-4bc6-9281-c4abed4c60fb",
   "metadata": {},
   "outputs": [],
   "source": [
    "import numpy as np\n",
    "import itertools"
   ]
  },
  {
   "cell_type": "code",
   "execution_count": 2,
   "id": "5f710ba1-f9c9-42ea-8eae-ee7b539d6121",
   "metadata": {},
   "outputs": [],
   "source": [
    "grids = np.repeat(None, 9*3).reshape(3, 9)"
   ]
  },
  {
   "cell_type": "code",
   "execution_count": 3,
   "id": "dedbec43-f9be-49a3-8bfb-ef4f434bbdac",
   "metadata": {},
   "outputs": [],
   "source": [
    "winning_positions = [\n",
    "    [0, 1, 2],\n",
    "    [3, 4, 5],\n",
    "    [6, 7, 8],\n",
    "    [0, 3, 6],\n",
    "    [1, 4, 7],\n",
    "    [2, 5, 8],\n",
    "    [0, 4, 8],\n",
    "    [2, 4, 6],\n",
    "]"
   ]
  },
  {
   "cell_type": "code",
   "execution_count": 4,
   "id": "993269f2-d0bc-4b96-8c90-51a14c97f3e7",
   "metadata": {},
   "outputs": [],
   "source": [
    "def check_winner():\n",
    "    for gridIndex, grid in enumerate(grids):\n",
    "        for position in winning_positions:\n",
    "            i, j, k = position\n",
    "            \n",
    "            if grid[i] == grid[j] and grid[j] == grid[k] and grid[i] != None:\n",
    "                return True\n",
    "\n",
    "    for position in winning_positions:\n",
    "        i, j, k = position\n",
    "        \n",
    "        if grids[0][i] == grids[1][j] and grids[1][j] == grids[2][k] and grids[0][i] != None:\n",
    "            return True\n",
    "\n",
    "        if grids[0][k] == grids[1][j] and grids[1][j] == grids[2][i] and grids[0][k] != None:\n",
    "            return True\n",
    "                \n",
    "    for i in range(9):\n",
    "        if grids[0][i] == grids[1][i] and grids[1][i] == grids[2][i] and grids[0][i] != None:\n",
    "            return True\n",
    "\n",
    "    return False\n"
   ]
  },
  {
   "cell_type": "code",
   "execution_count": 5,
   "id": "37452de3-b86b-4cbd-9d71-c13dfb83985d",
   "metadata": {},
   "outputs": [
    {
     "data": {
      "text/plain": [
       "False"
      ]
     },
     "execution_count": 5,
     "metadata": {},
     "output_type": "execute_result"
    }
   ],
   "source": [
    "check_winner()"
   ]
  },
  {
   "cell_type": "code",
   "execution_count": 14,
   "id": "1be8f36c",
   "metadata": {},
   "outputs": [],
   "source": [
    "drawing_positions = [\n",
    "    np.array([[\"X\", \"O\", \"O\"], [\"O\", \"X\", \"X\"], [\"X\", \"X\", \"O\"]]), # Island\n",
    "    np.array([[\"X\", \"X\", \"O\"], [\"O\", \"O\", \"X\"], [\"X\", \"O\", \"X\"]]), # Arrow\n",
    "    np.array([[\"X\", \"X\", \"O\"], [\"O\", \"O\", \"X\"], [\"X\", \"X\", \"O\"]]), # Scorpion\n",
    "]\n",
    "\n",
    "for i in range(3):\n",
    "    drawing_positions.append(np.rot90(drawing_positions[i]))\n",
    "    drawing_positions.append(np.rot90(drawing_positions[-1]))\n",
    "    drawing_positions.append(np.rot90(drawing_positions[-1]))\n",
    "\n",
    "perumutations = list(itertools.permutations(drawing_positions, 3))"
   ]
  },
  {
   "cell_type": "code",
   "execution_count": 16,
   "id": "0451e701",
   "metadata": {},
   "outputs": [],
   "source": [
    "for perumutation in perumutations:\n",
    "    grids[0] = perumutations[0][0].flatten()\n",
    "    grids[1] = perumutations[1][0].flatten()\n",
    "    grids[2] = perumutations[2][0].flatten()\n",
    "\n",
    "    if check_winner() == False:\n",
    "        print(\"Yay!\")"
   ]
  },
  {
   "cell_type": "code",
   "execution_count": null,
   "id": "df603c0e",
   "metadata": {},
   "outputs": [],
   "source": []
  }
 ],
 "metadata": {
  "kernelspec": {
   "display_name": "Python 3 (ipykernel)",
   "language": "python",
   "name": "python3"
  },
  "language_info": {
   "codemirror_mode": {
    "name": "ipython",
    "version": 3
   },
   "file_extension": ".py",
   "mimetype": "text/x-python",
   "name": "python",
   "nbconvert_exporter": "python",
   "pygments_lexer": "ipython3",
   "version": "3.9.10"
  }
 },
 "nbformat": 4,
 "nbformat_minor": 5
}
